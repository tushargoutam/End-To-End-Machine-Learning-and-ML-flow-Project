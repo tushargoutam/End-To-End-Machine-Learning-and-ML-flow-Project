{
 "cells": [
  {
   "cell_type": "code",
   "execution_count": 1,
   "id": "d2f487f8",
   "metadata": {},
   "outputs": [],
   "source": [
    "d = {\"key\":\"value\",\"key1\":\"value1\"}"
   ]
  },
  {
   "cell_type": "code",
   "execution_count": 2,
   "id": "a59c7ab0",
   "metadata": {},
   "outputs": [
    {
     "data": {
      "text/plain": [
       "'value'"
      ]
     },
     "execution_count": 2,
     "metadata": {},
     "output_type": "execute_result"
    }
   ],
   "source": [
    "d['key']"
   ]
  },
  {
   "cell_type": "code",
   "execution_count": 3,
   "id": "7a600d92",
   "metadata": {},
   "outputs": [
    {
     "name": "stdout",
     "output_type": "stream",
     "text": [
      "Unexpected exception formatting exception. Falling back to standard exception\n"
     ]
    },
    {
     "name": "stderr",
     "output_type": "stream",
     "text": [
      "Traceback (most recent call last):\n",
      "  File \"c:\\Users\\acer\\OneDrive\\Desktop\\VIT MSD\\Project\\End to End ML ops along with deployment\\End-To-End-Machine-Learning-and-ML-flow-Project\\mlops\\Lib\\site-packages\\IPython\\core\\interactiveshell.py\", line 3699, in run_code\n",
      "    exec(code_obj, self.user_global_ns, self.user_ns)\n",
      "  File \"C:\\Users\\acer\\AppData\\Local\\Temp\\ipykernel_26372\\3029236950.py\", line 1, in <module>\n",
      "    d.key\n",
      "AttributeError: 'dict' object has no attribute 'key'. Did you mean: 'keys'?\n",
      "\n",
      "During handling of the above exception, another exception occurred:\n",
      "\n",
      "Traceback (most recent call last):\n",
      "  File \"c:\\Users\\acer\\OneDrive\\Desktop\\VIT MSD\\Project\\End to End ML ops along with deployment\\End-To-End-Machine-Learning-and-ML-flow-Project\\mlops\\Lib\\site-packages\\IPython\\core\\interactiveshell.py\", line 2194, in showtraceback\n",
      "    stb = self.InteractiveTB.structured_traceback(\n",
      "          ^^^^^^^^^^^^^^^^^^^^^^^^^^^^^^^^^^^^^^^^\n",
      "  File \"c:\\Users\\acer\\OneDrive\\Desktop\\VIT MSD\\Project\\End to End ML ops along with deployment\\End-To-End-Machine-Learning-and-ML-flow-Project\\mlops\\Lib\\site-packages\\IPython\\core\\ultratb.py\", line 1185, in structured_traceback\n",
      "    return FormattedTB.structured_traceback(\n",
      "           ^^^^^^^^^^^^^^^^^^^^^^^^^^^^^^^^^\n",
      "  File \"c:\\Users\\acer\\OneDrive\\Desktop\\VIT MSD\\Project\\End to End ML ops along with deployment\\End-To-End-Machine-Learning-and-ML-flow-Project\\mlops\\Lib\\site-packages\\IPython\\core\\ultratb.py\", line 1056, in structured_traceback\n",
      "    return VerboseTB.structured_traceback(\n",
      "           ^^^^^^^^^^^^^^^^^^^^^^^^^^^^^^^\n",
      "  File \"c:\\Users\\acer\\OneDrive\\Desktop\\VIT MSD\\Project\\End to End ML ops along with deployment\\End-To-End-Machine-Learning-and-ML-flow-Project\\mlops\\Lib\\site-packages\\IPython\\core\\ultratb.py\", line 864, in structured_traceback\n",
      "    formatted_exceptions: list[list[str]] = self.format_exception_as_a_whole(\n",
      "                                            ^^^^^^^^^^^^^^^^^^^^^^^^^^^^^^^^^\n",
      "  File \"c:\\Users\\acer\\OneDrive\\Desktop\\VIT MSD\\Project\\End to End ML ops along with deployment\\End-To-End-Machine-Learning-and-ML-flow-Project\\mlops\\Lib\\site-packages\\IPython\\core\\ultratb.py\", line 776, in format_exception_as_a_whole\n",
      "    frames.append(self.format_record(record))\n",
      "                  ^^^^^^^^^^^^^^^^^^^^^^^^^^\n",
      "  File \"c:\\Users\\acer\\OneDrive\\Desktop\\VIT MSD\\Project\\End to End ML ops along with deployment\\End-To-End-Machine-Learning-and-ML-flow-Project\\mlops\\Lib\\site-packages\\IPython\\core\\ultratb.py\", line 652, in format_record\n",
      "    frame_info.lines,\n",
      "    ^^^^^^^^^^^^^^^^\n",
      "  File \"c:\\Users\\acer\\OneDrive\\Desktop\\VIT MSD\\Project\\End to End ML ops along with deployment\\End-To-End-Machine-Learning-and-ML-flow-Project\\mlops\\Lib\\site-packages\\IPython\\core\\tbtools.py\", line 355, in lines\n",
      "    return self._sd.lines  # type: ignore[misc]\n",
      "           ^^^^^^^^^^^^^^\n",
      "  File \"c:\\Users\\acer\\OneDrive\\Desktop\\VIT MSD\\Project\\End to End ML ops along with deployment\\End-To-End-Machine-Learning-and-ML-flow-Project\\mlops\\Lib\\site-packages\\stack_data\\utils.py\", line 145, in cached_property_wrapper\n",
      "    value = obj.__dict__[self.func.__name__] = self.func(obj)\n",
      "                                               ^^^^^^^^^^^^^^\n",
      "  File \"c:\\Users\\acer\\OneDrive\\Desktop\\VIT MSD\\Project\\End to End ML ops along with deployment\\End-To-End-Machine-Learning-and-ML-flow-Project\\mlops\\Lib\\site-packages\\stack_data\\core.py\", line 734, in lines\n",
      "    pieces = self.included_pieces\n",
      "             ^^^^^^^^^^^^^^^^^^^^\n",
      "  File \"c:\\Users\\acer\\OneDrive\\Desktop\\VIT MSD\\Project\\End to End ML ops along with deployment\\End-To-End-Machine-Learning-and-ML-flow-Project\\mlops\\Lib\\site-packages\\stack_data\\utils.py\", line 145, in cached_property_wrapper\n",
      "    value = obj.__dict__[self.func.__name__] = self.func(obj)\n",
      "                                               ^^^^^^^^^^^^^^\n",
      "  File \"c:\\Users\\acer\\OneDrive\\Desktop\\VIT MSD\\Project\\End to End ML ops along with deployment\\End-To-End-Machine-Learning-and-ML-flow-Project\\mlops\\Lib\\site-packages\\stack_data\\core.py\", line 677, in included_pieces\n",
      "    scope_pieces = self.scope_pieces\n",
      "                   ^^^^^^^^^^^^^^^^^\n",
      "  File \"c:\\Users\\acer\\OneDrive\\Desktop\\VIT MSD\\Project\\End to End ML ops along with deployment\\End-To-End-Machine-Learning-and-ML-flow-Project\\mlops\\Lib\\site-packages\\stack_data\\utils.py\", line 145, in cached_property_wrapper\n",
      "    value = obj.__dict__[self.func.__name__] = self.func(obj)\n",
      "                                               ^^^^^^^^^^^^^^\n",
      "  File \"c:\\Users\\acer\\OneDrive\\Desktop\\VIT MSD\\Project\\End to End ML ops along with deployment\\End-To-End-Machine-Learning-and-ML-flow-Project\\mlops\\Lib\\site-packages\\stack_data\\core.py\", line 614, in scope_pieces\n",
      "    scope_start, scope_end = self.source.line_range(self.scope)\n",
      "                             ^^^^^^^^^^^^^^^^^^^^^^^^^^^^^^^^^^\n",
      "  File \"c:\\Users\\acer\\OneDrive\\Desktop\\VIT MSD\\Project\\End to End ML ops along with deployment\\End-To-End-Machine-Learning-and-ML-flow-Project\\mlops\\Lib\\site-packages\\stack_data\\core.py\", line 178, in line_range\n",
      "    return line_range(self.asttext(), node)\n",
      "                      ^^^^^^^^^^^^\n",
      "AttributeError: 'Source' object has no attribute 'asttext'\n"
     ]
    }
   ],
   "source": [
    "d.key"
   ]
  },
  {
   "cell_type": "code",
   "execution_count": 4,
   "id": "34bb9e53",
   "metadata": {},
   "outputs": [],
   "source": [
    "from box import ConfigBox"
   ]
  },
  {
   "cell_type": "code",
   "execution_count": 5,
   "id": "946e1575",
   "metadata": {},
   "outputs": [],
   "source": [
    "d2 = ConfigBox({\"key\":\"value\",\"key1\":\"value1\"})"
   ]
  },
  {
   "cell_type": "code",
   "execution_count": 6,
   "id": "6d103bd2",
   "metadata": {},
   "outputs": [
    {
     "data": {
      "text/plain": [
       "'value'"
      ]
     },
     "execution_count": 6,
     "metadata": {},
     "output_type": "execute_result"
    }
   ],
   "source": [
    "d2.key"
   ]
  },
  {
   "cell_type": "code",
   "execution_count": 7,
   "id": "c5b3ccb6",
   "metadata": {},
   "outputs": [],
   "source": [
    "def get_product(x:int, y:int) -> int:\n",
    "    return x*y"
   ]
  },
  {
   "cell_type": "code",
   "execution_count": 8,
   "id": "a6f13f46",
   "metadata": {},
   "outputs": [
    {
     "data": {
      "text/plain": [
       "8"
      ]
     },
     "execution_count": 8,
     "metadata": {},
     "output_type": "execute_result"
    }
   ],
   "source": [
    "get_product(x = 2, y = 4)"
   ]
  },
  {
   "cell_type": "code",
   "execution_count": 9,
   "id": "28f2be05",
   "metadata": {},
   "outputs": [
    {
     "data": {
      "text/plain": [
       "'44'"
      ]
     },
     "execution_count": 9,
     "metadata": {},
     "output_type": "execute_result"
    }
   ],
   "source": [
    "get_product(x = 2, y= \"4\")"
   ]
  },
  {
   "cell_type": "code",
   "execution_count": 5,
   "id": "897aa65a",
   "metadata": {},
   "outputs": [],
   "source": [
    "from ensure import ensure_annotations"
   ]
  },
  {
   "cell_type": "code",
   "execution_count": 6,
   "id": "b70628c9",
   "metadata": {},
   "outputs": [],
   "source": [
    "@ensure_annotations\n",
    "def get_product(x:int, y:int) -> int:\n",
    "    return x*y"
   ]
  },
  {
   "cell_type": "code",
   "execution_count": 7,
   "id": "cf1acf0d",
   "metadata": {},
   "outputs": [
    {
     "data": {
      "text/plain": [
       "8"
      ]
     },
     "execution_count": 7,
     "metadata": {},
     "output_type": "execute_result"
    }
   ],
   "source": [
    "get_product(x = 2, y = 4)"
   ]
  },
  {
   "cell_type": "code",
   "execution_count": 9,
   "id": "4c07275c",
   "metadata": {},
   "outputs": [
    {
     "name": "stdout",
     "output_type": "stream",
     "text": [
      "Unexpected exception formatting exception. Falling back to standard exception\n"
     ]
    },
    {
     "name": "stderr",
     "output_type": "stream",
     "text": [
      "Traceback (most recent call last):\n",
      "  File \"c:\\Users\\acer\\OneDrive\\Desktop\\VIT MSD\\Project\\End to End ML ops along with deployment\\End-To-End-Machine-Learning-and-ML-flow-Project\\mlops\\Lib\\site-packages\\IPython\\core\\interactiveshell.py\", line 3699, in run_code\n",
      "    exec(code_obj, self.user_global_ns, self.user_ns)\n",
      "  File \"C:\\Users\\acer\\AppData\\Local\\Temp\\ipykernel_36092\\4115764308.py\", line 1, in <module>\n",
      "    get_product(x = 2, y = \"4\")\n",
      "  File \"c:\\Users\\acer\\OneDrive\\Desktop\\VIT MSD\\Project\\End to End ML ops along with deployment\\End-To-End-Machine-Learning-and-ML-flow-Project\\mlops\\Lib\\site-packages\\ensure\\main.py\", line 870, in __call__\n",
      "    raise EnsureError(msg.format(arg=arg, f=self.f, t=templ, valt=type(value)))\n",
      "ensure.main.EnsureError: Argument y of type <class 'str'> to <function get_product at 0x0000015C96E6F2E0> does not match annotation type <class 'int'>\n",
      "\n",
      "During handling of the above exception, another exception occurred:\n",
      "\n",
      "Traceback (most recent call last):\n",
      "  File \"c:\\Users\\acer\\OneDrive\\Desktop\\VIT MSD\\Project\\End to End ML ops along with deployment\\End-To-End-Machine-Learning-and-ML-flow-Project\\mlops\\Lib\\site-packages\\IPython\\core\\interactiveshell.py\", line 2194, in showtraceback\n",
      "    stb = self.InteractiveTB.structured_traceback(\n",
      "          ^^^^^^^^^^^^^^^^^^^^^^^^^^^^^^^^^^^^^^^^\n",
      "  File \"c:\\Users\\acer\\OneDrive\\Desktop\\VIT MSD\\Project\\End to End ML ops along with deployment\\End-To-End-Machine-Learning-and-ML-flow-Project\\mlops\\Lib\\site-packages\\IPython\\core\\ultratb.py\", line 1185, in structured_traceback\n",
      "    return FormattedTB.structured_traceback(\n",
      "           ^^^^^^^^^^^^^^^^^^^^^^^^^^^^^^^^^\n",
      "  File \"c:\\Users\\acer\\OneDrive\\Desktop\\VIT MSD\\Project\\End to End ML ops along with deployment\\End-To-End-Machine-Learning-and-ML-flow-Project\\mlops\\Lib\\site-packages\\IPython\\core\\ultratb.py\", line 1056, in structured_traceback\n",
      "    return VerboseTB.structured_traceback(\n",
      "           ^^^^^^^^^^^^^^^^^^^^^^^^^^^^^^^\n",
      "  File \"c:\\Users\\acer\\OneDrive\\Desktop\\VIT MSD\\Project\\End to End ML ops along with deployment\\End-To-End-Machine-Learning-and-ML-flow-Project\\mlops\\Lib\\site-packages\\IPython\\core\\ultratb.py\", line 864, in structured_traceback\n",
      "    formatted_exceptions: list[list[str]] = self.format_exception_as_a_whole(\n",
      "                                            ^^^^^^^^^^^^^^^^^^^^^^^^^^^^^^^^^\n",
      "  File \"c:\\Users\\acer\\OneDrive\\Desktop\\VIT MSD\\Project\\End to End ML ops along with deployment\\End-To-End-Machine-Learning-and-ML-flow-Project\\mlops\\Lib\\site-packages\\IPython\\core\\ultratb.py\", line 776, in format_exception_as_a_whole\n",
      "    frames.append(self.format_record(record))\n",
      "                  ^^^^^^^^^^^^^^^^^^^^^^^^^^\n",
      "  File \"c:\\Users\\acer\\OneDrive\\Desktop\\VIT MSD\\Project\\End to End ML ops along with deployment\\End-To-End-Machine-Learning-and-ML-flow-Project\\mlops\\Lib\\site-packages\\IPython\\core\\ultratb.py\", line 652, in format_record\n",
      "    frame_info.lines,\n",
      "    ^^^^^^^^^^^^^^^^\n",
      "  File \"c:\\Users\\acer\\OneDrive\\Desktop\\VIT MSD\\Project\\End to End ML ops along with deployment\\End-To-End-Machine-Learning-and-ML-flow-Project\\mlops\\Lib\\site-packages\\IPython\\core\\tbtools.py\", line 355, in lines\n",
      "    return self._sd.lines  # type: ignore[misc]\n",
      "           ^^^^^^^^^^^^^^\n",
      "  File \"c:\\Users\\acer\\OneDrive\\Desktop\\VIT MSD\\Project\\End to End ML ops along with deployment\\End-To-End-Machine-Learning-and-ML-flow-Project\\mlops\\Lib\\site-packages\\stack_data\\utils.py\", line 145, in cached_property_wrapper\n",
      "    value = obj.__dict__[self.func.__name__] = self.func(obj)\n",
      "                                               ^^^^^^^^^^^^^^\n",
      "  File \"c:\\Users\\acer\\OneDrive\\Desktop\\VIT MSD\\Project\\End to End ML ops along with deployment\\End-To-End-Machine-Learning-and-ML-flow-Project\\mlops\\Lib\\site-packages\\stack_data\\core.py\", line 734, in lines\n",
      "    pieces = self.included_pieces\n",
      "             ^^^^^^^^^^^^^^^^^^^^\n",
      "  File \"c:\\Users\\acer\\OneDrive\\Desktop\\VIT MSD\\Project\\End to End ML ops along with deployment\\End-To-End-Machine-Learning-and-ML-flow-Project\\mlops\\Lib\\site-packages\\stack_data\\utils.py\", line 145, in cached_property_wrapper\n",
      "    value = obj.__dict__[self.func.__name__] = self.func(obj)\n",
      "                                               ^^^^^^^^^^^^^^\n",
      "  File \"c:\\Users\\acer\\OneDrive\\Desktop\\VIT MSD\\Project\\End to End ML ops along with deployment\\End-To-End-Machine-Learning-and-ML-flow-Project\\mlops\\Lib\\site-packages\\stack_data\\core.py\", line 677, in included_pieces\n",
      "    scope_pieces = self.scope_pieces\n",
      "                   ^^^^^^^^^^^^^^^^^\n",
      "  File \"c:\\Users\\acer\\OneDrive\\Desktop\\VIT MSD\\Project\\End to End ML ops along with deployment\\End-To-End-Machine-Learning-and-ML-flow-Project\\mlops\\Lib\\site-packages\\stack_data\\utils.py\", line 145, in cached_property_wrapper\n",
      "    value = obj.__dict__[self.func.__name__] = self.func(obj)\n",
      "                                               ^^^^^^^^^^^^^^\n",
      "  File \"c:\\Users\\acer\\OneDrive\\Desktop\\VIT MSD\\Project\\End to End ML ops along with deployment\\End-To-End-Machine-Learning-and-ML-flow-Project\\mlops\\Lib\\site-packages\\stack_data\\core.py\", line 614, in scope_pieces\n",
      "    scope_start, scope_end = self.source.line_range(self.scope)\n",
      "                             ^^^^^^^^^^^^^^^^^^^^^^^^^^^^^^^^^^\n",
      "  File \"c:\\Users\\acer\\OneDrive\\Desktop\\VIT MSD\\Project\\End to End ML ops along with deployment\\End-To-End-Machine-Learning-and-ML-flow-Project\\mlops\\Lib\\site-packages\\stack_data\\core.py\", line 178, in line_range\n",
      "    return line_range(self.asttext(), node)\n",
      "                      ^^^^^^^^^^^^\n",
      "AttributeError: 'Source' object has no attribute 'asttext'\n"
     ]
    }
   ],
   "source": [
    "get_product(x = 2, y = \"4\")"
   ]
  }
 ],
 "metadata": {
  "kernelspec": {
   "display_name": "mlops",
   "language": "python",
   "name": "python3"
  },
  "language_info": {
   "codemirror_mode": {
    "name": "ipython",
    "version": 3
   },
   "file_extension": ".py",
   "mimetype": "text/x-python",
   "name": "python",
   "nbconvert_exporter": "python",
   "pygments_lexer": "ipython3",
   "version": "3.12.10"
  }
 },
 "nbformat": 4,
 "nbformat_minor": 5
}
